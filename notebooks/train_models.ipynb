{
 "cells": [
  {
   "cell_type": "code",
   "execution_count": 1,
   "id": "initial_id",
   "metadata": {
    "collapsed": true,
    "ExecuteTime": {
     "end_time": "2023-12-21T21:54:39.550961Z",
     "start_time": "2023-12-21T21:54:36.180020Z"
    }
   },
   "outputs": [],
   "source": [
    "import re\n",
    "\n",
    "import numpy as np\n",
    "import pandas as pd\n",
    "\n",
    "from core.models.linear_regression import LinearRegressionModel\n",
    "\n",
    "%load_ext autoreload\n",
    "%autoreload 2"
   ]
  },
  {
   "cell_type": "code",
   "execution_count": 2,
   "outputs": [],
   "source": [
    "def change_type_to_list(x):\n",
    "    return np.array(\n",
    "        [\n",
    "            float(val)\n",
    "            for val in re.split(\n",
    "                \"\\s+\", x.replace(\"[\", \"\").replace(\"]\", \"\").replace(\"\\n\", \"\")\n",
    "            )\n",
    "            if val\n",
    "        ]\n",
    "    )"
   ],
   "metadata": {
    "collapsed": false,
    "ExecuteTime": {
     "end_time": "2023-12-21T21:54:40.750869Z",
     "start_time": "2023-12-21T21:54:40.722904Z"
    }
   },
   "id": "5851ee288545f1ff"
  },
  {
   "cell_type": "code",
   "execution_count": 3,
   "outputs": [
    {
     "data": {
      "text/plain": "                                              cv_emb  \\\n0  [0.71964073, 0.99000129, 0.39665197, 0.0146236...   \n1  [0.53543628, 0.25721802, 0.30283495, 0.8268013...   \n2  [0.27846611, 0.74790676, 0.3759475, 0.09243881...   \n3  [0.27086328, 0.76920947, 0.63036516, 0.3476587...   \n4  [0.31721528, 0.93519986, 0.38203033, 0.7087476...   \n\n                                             vac_emb  similarity  \n0  [0.923133848, 0.453243537, 0.43085423, 0.33971...    0.644542  \n1  [0.24025804, 0.90790933, 0.00368075, 0.4126619...    0.802243  \n2  [0.57300961, 0.05632958, 0.34260296, 0.8043931...    0.618704  \n3  [0.09976132, 0.68556305, 0.78433761, 0.4952436...    0.066564  \n4  [0.50514334, 0.60406051, 0.15168032, 0.8133302...    0.762860  ",
      "text/html": "<div>\n<style scoped>\n    .dataframe tbody tr th:only-of-type {\n        vertical-align: middle;\n    }\n\n    .dataframe tbody tr th {\n        vertical-align: top;\n    }\n\n    .dataframe thead th {\n        text-align: right;\n    }\n</style>\n<table border=\"1\" class=\"dataframe\">\n  <thead>\n    <tr style=\"text-align: right;\">\n      <th></th>\n      <th>cv_emb</th>\n      <th>vac_emb</th>\n      <th>similarity</th>\n    </tr>\n  </thead>\n  <tbody>\n    <tr>\n      <th>0</th>\n      <td>[0.71964073, 0.99000129, 0.39665197, 0.0146236...</td>\n      <td>[0.923133848, 0.453243537, 0.43085423, 0.33971...</td>\n      <td>0.644542</td>\n    </tr>\n    <tr>\n      <th>1</th>\n      <td>[0.53543628, 0.25721802, 0.30283495, 0.8268013...</td>\n      <td>[0.24025804, 0.90790933, 0.00368075, 0.4126619...</td>\n      <td>0.802243</td>\n    </tr>\n    <tr>\n      <th>2</th>\n      <td>[0.27846611, 0.74790676, 0.3759475, 0.09243881...</td>\n      <td>[0.57300961, 0.05632958, 0.34260296, 0.8043931...</td>\n      <td>0.618704</td>\n    </tr>\n    <tr>\n      <th>3</th>\n      <td>[0.27086328, 0.76920947, 0.63036516, 0.3476587...</td>\n      <td>[0.09976132, 0.68556305, 0.78433761, 0.4952436...</td>\n      <td>0.066564</td>\n    </tr>\n    <tr>\n      <th>4</th>\n      <td>[0.31721528, 0.93519986, 0.38203033, 0.7087476...</td>\n      <td>[0.50514334, 0.60406051, 0.15168032, 0.8133302...</td>\n      <td>0.762860</td>\n    </tr>\n  </tbody>\n</table>\n</div>"
     },
     "execution_count": 3,
     "metadata": {},
     "output_type": "execute_result"
    }
   ],
   "source": [
    "df = pd.read_csv(\"../data/test_dataset.csv\", index_col=0)\n",
    "df[\"cv_emb\"] = df.cv_emb.apply(lambda x: change_type_to_list(x))\n",
    "df[\"vac_emb\"] = df.vac_emb.apply(lambda x: change_type_to_list(x))\n",
    "\n",
    "df.head()"
   ],
   "metadata": {
    "collapsed": false,
    "ExecuteTime": {
     "end_time": "2023-12-21T21:54:41.776738Z",
     "start_time": "2023-12-21T21:54:41.711367Z"
    }
   },
   "id": "96a7b32b19b47f04"
  },
  {
   "cell_type": "code",
   "execution_count": 4,
   "outputs": [],
   "source": [
    "model_lr = LinearRegressionModel()"
   ],
   "metadata": {
    "collapsed": false,
    "ExecuteTime": {
     "end_time": "2023-12-21T21:54:45.750528Z",
     "start_time": "2023-12-21T21:54:45.708728Z"
    }
   },
   "id": "9f01eca51181f00b"
  },
  {
   "cell_type": "code",
   "execution_count": 5,
   "outputs": [
    {
     "name": "stdout",
     "output_type": "stream",
     "text": [
      "Model trained\n",
      "Test score is 0.30601157901370846\n"
     ]
    }
   ],
   "source": [
    "model_lr.train(df)"
   ],
   "metadata": {
    "collapsed": false,
    "ExecuteTime": {
     "end_time": "2023-12-21T21:54:46.385954Z",
     "start_time": "2023-12-21T21:54:46.299747Z"
    }
   },
   "id": "488358d5891b0713"
  },
  {
   "cell_type": "code",
   "execution_count": 6,
   "outputs": [
    {
     "name": "stdout",
     "output_type": "stream",
     "text": [
      "[0.26582063]\n"
     ]
    }
   ],
   "source": [
    "print(model_lr.predict(df.cv_emb.iloc[0], df.cv_emb.iloc[0]))"
   ],
   "metadata": {
    "collapsed": false,
    "ExecuteTime": {
     "end_time": "2023-12-21T21:54:48.830830Z",
     "start_time": "2023-12-21T21:54:48.799706Z"
    }
   },
   "id": "4e4687f1a3eba294"
  },
  {
   "cell_type": "code",
   "execution_count": 7,
   "outputs": [
    {
     "name": "stdout",
     "output_type": "stream",
     "text": [
      "[0.70829379]\n"
     ]
    }
   ],
   "source": [
    "print(model_lr.predict(\"Привет\", \"мир\"))"
   ],
   "metadata": {
    "collapsed": false,
    "ExecuteTime": {
     "end_time": "2023-12-21T21:54:52.967727Z",
     "start_time": "2023-12-21T21:54:52.937315Z"
    }
   },
   "id": "506cc94d16968759"
  },
  {
   "cell_type": "markdown",
   "source": [
    "# Save Model"
   ],
   "metadata": {
    "collapsed": false
   },
   "id": "15d1e1cbf6820941"
  },
  {
   "cell_type": "code",
   "execution_count": 8,
   "outputs": [
    {
     "name": "stdout",
     "output_type": "stream",
     "text": [
      "Model saved at ../data/model_weights/linear_regression.pkl\n"
     ]
    }
   ],
   "source": [
    "from pathlib import Path\n",
    "\n",
    "pth = Path(\"../data/model_weights/linear_regression.pkl\")\n",
    "model_lr.save_model(pth)"
   ],
   "metadata": {
    "collapsed": false,
    "ExecuteTime": {
     "end_time": "2023-12-21T21:54:55.102783Z",
     "start_time": "2023-12-21T21:54:55.077537Z"
    }
   },
   "id": "2b3b275d011aaf07"
  },
  {
   "cell_type": "markdown",
   "source": [
    "# Load model"
   ],
   "metadata": {
    "collapsed": false
   },
   "id": "c7fa892b7cbd26c8"
  },
  {
   "cell_type": "code",
   "execution_count": 9,
   "outputs": [
    {
     "name": "stdout",
     "output_type": "stream",
     "text": [
      "Model successfully loaded\n"
     ]
    }
   ],
   "source": [
    "model_lr = LinearRegressionModel()\n",
    "model_lr.load_model(pth)"
   ],
   "metadata": {
    "collapsed": false,
    "ExecuteTime": {
     "end_time": "2023-12-21T21:54:56.300015Z",
     "start_time": "2023-12-21T21:54:56.263220Z"
    }
   },
   "id": "492fa2ac9c07ae69"
  },
  {
   "cell_type": "code",
   "execution_count": 10,
   "outputs": [
    {
     "name": "stdout",
     "output_type": "stream",
     "text": [
      "[0.70829379]\n"
     ]
    }
   ],
   "source": [
    "print(model_lr.predict(\"Привет\", \"мир\"))"
   ],
   "metadata": {
    "collapsed": false,
    "ExecuteTime": {
     "end_time": "2023-12-21T21:54:57.525654Z",
     "start_time": "2023-12-21T21:54:57.493972Z"
    }
   },
   "id": "cdaa663a218e38b9"
  },
  {
   "cell_type": "code",
   "execution_count": null,
   "outputs": [],
   "source": [],
   "metadata": {
    "collapsed": false
   },
   "id": "312b17d37c615656"
  }
 ],
 "metadata": {
  "kernelspec": {
   "display_name": "Python 3",
   "language": "python",
   "name": "python3"
  },
  "language_info": {
   "codemirror_mode": {
    "name": "ipython",
    "version": 2
   },
   "file_extension": ".py",
   "mimetype": "text/x-python",
   "name": "python",
   "nbconvert_exporter": "python",
   "pygments_lexer": "ipython2",
   "version": "2.7.6"
  }
 },
 "nbformat": 4,
 "nbformat_minor": 5
}
